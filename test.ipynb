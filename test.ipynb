{
 "cells": [
  {
   "cell_type": "code",
   "execution_count": null,
   "metadata": {},
   "outputs": [],
   "source": [
    "import pandas as pd \n",
    "import folium\n",
    "\n",
    "\n",
    "\n",
    "\n",
    "file_path = \"/Users/MimounB/Desktop/Projects/ImmoWebDataMiner/DataAnalysis/immo_all.csv\"\n",
    "\n",
    "df = pd.read_csv(file_path)\n",
    "\n",
    "map = folium.Map(location=[50.850346, 4.351721], zoom_start=10)\n",
    "\n",
    "\n",
    "for index, row in df.iterrows():\n",
    "   #if row['province'] == 'Brussels':\n",
    "    if pd.notna(row['latitude']) and pd.notna(row['longitude']):\n",
    "        color = 'blue'\n",
    "        icon = 'house'\n",
    "        if row['property_type'] == \"APARTMENT\":\n",
    "                icon = 'building'\n",
    "        if row['price'] >= 590000:\n",
    "            #color = 'red'\n",
    "            coords = [row['latitude'], row['longitude']]\n",
    "            folium.Marker(coords, tooltip=\"Click for More\", popup=(f\"Price:{row['price']}\"\n",
    "                                                               f\"\\nEnergy:{row['epc']}\"\n",
    "                                                               f\"\\nPostal:{row['zip_code']}\"\n",
    "                                                               f\"\\nRoom:{row['bedroom_count']}\"\n",
    "                                                               f\"\\nSurface:{row['surface_land']}\"\n",
    "                                                               f\"\\nState:{row['state_building']}\"),\n",
    "            icon=folium.Icon(icon=icon, prefix='fa', color=color)).add_to(map)\n",
    "\n",
    "        last_location_add = row['latitude'], row['longitude']\n",
    "        if row['price'] <= 490000:\n",
    "                    #color = 'green'\n",
    "                    coords = [row['latitude'], row['longitude']]\n",
    "                    folium.Marker(coords, tooltip=\"Click for More\", popup=(f\"Price:{row['price']}\"\n",
    "                                                                    f\"\\nEnergy:{row['epc']}\"\n",
    "                                                                    f\"\\nPostal:{row['zip_code']}\"\n",
    "                                                                    f\"\\nRoom:{row['bedroom_count']}\"\n",
    "                                                                    f\"\\nSurface:{row['surface_land']}\"\n",
    "                                                                    f\"\\nState:{row['state_building']}\"\n",
    "                                                                    f\"\\nType:{row['property_type']}\"),\n",
    "                    icon=folium.Icon(icon=icon, prefix='fa', color=color)).add_to(map)\n",
    "\n",
    "                    last_location_add = row['latitude'], row['longitude']\n",
    "\n",
    "\n",
    "\n",
    "\n",
    "\n",
    "map.location = last_location_add\n",
    "map"
   ]
  }
 ],
 "metadata": {
  "kernelspec": {
   "display_name": "wikienv",
   "language": "python",
   "name": "python3"
  },
  "language_info": {
   "codemirror_mode": {
    "name": "ipython",
    "version": 3
   },
   "file_extension": ".py",
   "mimetype": "text/x-python",
   "name": "python",
   "nbconvert_exporter": "python",
   "pygments_lexer": "ipython3",
   "version": "3.12.1"
  }
 },
 "nbformat": 4,
 "nbformat_minor": 2
}
